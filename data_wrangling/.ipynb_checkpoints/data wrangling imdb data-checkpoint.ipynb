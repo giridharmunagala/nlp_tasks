{
 "cells": [
  {
   "cell_type": "code",
   "execution_count": 1,
   "metadata": {},
   "outputs": [],
   "source": [
    "import json\n",
    "import os"
   ]
  },
  {
   "cell_type": "code",
   "execution_count": 2,
   "metadata": {},
   "outputs": [],
   "source": [
    "def read_data(folder_path,label):\n",
    "    \"\"\"Converts files in folder to json format with extra information\"\"\"\n",
    "    list_of_docs = list()\n",
    "    if os.path.isdir(folder_path):\n",
    "        for file_path in os.listdir(folder_path):\n",
    "            review_doc = dict()\n",
    "            filename = os.path.splitext(file_path)[0]\n",
    "            review_id,rating = filename.split('_')\n",
    "            with open(os.path.join(folder_path,file_path),'r',encoding=\"utf-8\") as file:\n",
    "                review = file.read()\n",
    "            review_doc['label'] = label\n",
    "            review_doc['rating'] = rating\n",
    "            review_doc['review'] = review\n",
    "            review_doc['review_id'] = review_id\n",
    "            \n",
    "            list_of_docs.append(review_doc)\n",
    "    return list_of_docs"
   ]
  },
  {
   "cell_type": "code",
   "execution_count": 3,
   "metadata": {},
   "outputs": [],
   "source": [
    "par_dir = os.path.normpath(os.path.join(os.getcwd(), os.pardir))"
   ]
  },
  {
   "cell_type": "markdown",
   "metadata": {},
   "source": [
    "## Training data"
   ]
  },
  {
   "cell_type": "code",
   "execution_count": 4,
   "metadata": {},
   "outputs": [],
   "source": [
    "neg_reviews_train = read_data(r'C:\\Users\\giridhar\\Documents\\Learnings\\data\\aclImdb\\train\\neg','neg')\n",
    "pos_reviews_train = read_data(r'C:\\Users\\giridhar\\Documents\\Learnings\\data\\aclImdb\\train\\pos','neg')\n",
    "all_reviews_train = pos_reviews_train + neg_reviews_train"
   ]
  },
  {
   "cell_type": "code",
   "execution_count": 5,
   "metadata": {},
   "outputs": [],
   "source": [
    "train_data = dict()\n",
    "train_data['reviews'] = all_reviews_train"
   ]
  },
  {
   "cell_type": "code",
   "execution_count": 6,
   "metadata": {},
   "outputs": [],
   "source": [
    "with open(os.path.join(par_dir,'data','imdb_train_reviews.json'),'w') as file:\n",
    "    json.dump(train_data,file)"
   ]
  },
  {
   "cell_type": "markdown",
   "metadata": {},
   "source": [
    "## Test data"
   ]
  },
  {
   "cell_type": "code",
   "execution_count": 17,
   "metadata": {},
   "outputs": [],
   "source": [
    "neg_reviews_test = read_data(r'C:\\Users\\giridhar\\Documents\\Learnings\\data\\aclImdb\\test\\neg','neg')\n",
    "pos_reviews_test = read_data(r'C:\\Users\\giridhar\\Documents\\Learnings\\data\\aclImdb\\test\\pos','neg')\n",
    "all_reviews_test = pos_reviews_test + neg_reviews_test"
   ]
  },
  {
   "cell_type": "code",
   "execution_count": 20,
   "metadata": {},
   "outputs": [],
   "source": [
    "test_data = dict()\n",
    "test_data['reviews'] = all_reviews_test"
   ]
  },
  {
   "cell_type": "code",
   "execution_count": 21,
   "metadata": {},
   "outputs": [
    {
     "data": {
      "text/html": [
       "<div>\n",
       "<style scoped>\n",
       "    .dataframe tbody tr th:only-of-type {\n",
       "        vertical-align: middle;\n",
       "    }\n",
       "\n",
       "    .dataframe tbody tr th {\n",
       "        vertical-align: top;\n",
       "    }\n",
       "\n",
       "    .dataframe thead th {\n",
       "        text-align: right;\n",
       "    }\n",
       "</style>\n",
       "<table border=\"1\" class=\"dataframe\">\n",
       "  <thead>\n",
       "    <tr style=\"text-align: right;\">\n",
       "      <th></th>\n",
       "      <th>label</th>\n",
       "      <th>rating</th>\n",
       "      <th>review</th>\n",
       "      <th>review_id</th>\n",
       "    </tr>\n",
       "  </thead>\n",
       "  <tbody>\n",
       "    <tr>\n",
       "      <td>0</td>\n",
       "      <td>neg</td>\n",
       "      <td>10</td>\n",
       "      <td>I went and saw this movie last night after bei...</td>\n",
       "      <td>0</td>\n",
       "    </tr>\n",
       "    <tr>\n",
       "      <td>1</td>\n",
       "      <td>neg</td>\n",
       "      <td>7</td>\n",
       "      <td>Actor turned director Bill Paxton follows up h...</td>\n",
       "      <td>10000</td>\n",
       "    </tr>\n",
       "    <tr>\n",
       "      <td>2</td>\n",
       "      <td>neg</td>\n",
       "      <td>9</td>\n",
       "      <td>As a recreational golfer with some knowledge o...</td>\n",
       "      <td>10001</td>\n",
       "    </tr>\n",
       "    <tr>\n",
       "      <td>3</td>\n",
       "      <td>neg</td>\n",
       "      <td>8</td>\n",
       "      <td>I saw this film in a sneak preview, and it is ...</td>\n",
       "      <td>10002</td>\n",
       "    </tr>\n",
       "    <tr>\n",
       "      <td>4</td>\n",
       "      <td>neg</td>\n",
       "      <td>8</td>\n",
       "      <td>Bill Paxton has taken the true story of the 19...</td>\n",
       "      <td>10003</td>\n",
       "    </tr>\n",
       "  </tbody>\n",
       "</table>\n",
       "</div>"
      ],
      "text/plain": [
       "  label rating                                             review review_id\n",
       "0   neg     10  I went and saw this movie last night after bei...         0\n",
       "1   neg      7  Actor turned director Bill Paxton follows up h...     10000\n",
       "2   neg      9  As a recreational golfer with some knowledge o...     10001\n",
       "3   neg      8  I saw this film in a sneak preview, and it is ...     10002\n",
       "4   neg      8  Bill Paxton has taken the true story of the 19...     10003"
      ]
     },
     "execution_count": 21,
     "metadata": {},
     "output_type": "execute_result"
    }
   ],
   "source": [
    "test_data.head()"
   ]
  },
  {
   "cell_type": "code",
   "execution_count": 36,
   "metadata": {},
   "outputs": [],
   "source": [
    "json.dump?"
   ]
  },
  {
   "cell_type": "code",
   "execution_count": null,
   "metadata": {},
   "outputs": [],
   "source": []
  }
 ],
 "metadata": {
  "kernelspec": {
   "display_name": "Python 3",
   "language": "python",
   "name": "python3"
  },
  "language_info": {
   "codemirror_mode": {
    "name": "ipython",
    "version": 3
   },
   "file_extension": ".py",
   "mimetype": "text/x-python",
   "name": "python",
   "nbconvert_exporter": "python",
   "pygments_lexer": "ipython3",
   "version": "3.7.3"
  }
 },
 "nbformat": 4,
 "nbformat_minor": 2
}
