{
 "cells": [
  {
   "cell_type": "code",
   "execution_count": 7,
   "metadata": {},
   "outputs": [],
   "source": [
    "import json\n",
    "import os"
   ]
  },
  {
   "cell_type": "code",
   "execution_count": 8,
   "metadata": {},
   "outputs": [],
   "source": [
    "def read_data(folder_path,label):\n",
    "    \"\"\"Converts files in folder to json format with extra information\"\"\"\n",
    "    list_of_docs = list()\n",
    "    if os.path.isdir(folder_path):\n",
    "        for file_path in os.listdir(folder_path):\n",
    "            review_doc = dict()\n",
    "            filename = os.path.splitext(file_path)[0]\n",
    "            review_id,rating = filename.split('_')\n",
    "            with open(os.path.join(folder_path,file_path),'r',encoding=\"utf-8\") as file:\n",
    "                review = file.read()\n",
    "            review_doc['label'] = label\n",
    "            review_doc['rating'] = rating\n",
    "            review_doc['review'] = review\n",
    "            review_doc['review_id'] = review_id\n",
    "            \n",
    "            list_of_docs.append(review_doc)\n",
    "    return list_of_docs"
   ]
  },
  {
   "cell_type": "code",
   "execution_count": 9,
   "metadata": {},
   "outputs": [],
   "source": [
    "par_dir = os.path.normpath(os.path.join(os.getcwd(), os.pardir))"
   ]
  },
  {
   "cell_type": "markdown",
   "metadata": {},
   "source": [
    "## Training data"
   ]
  },
  {
   "cell_type": "code",
   "execution_count": 10,
   "metadata": {},
   "outputs": [],
   "source": [
    "neg_reviews_train = read_data(r'C:\\Users\\giridhar\\Documents\\Learnings\\data\\aclImdb\\train\\neg','neg')\n",
    "pos_reviews_train = read_data(r'C:\\Users\\giridhar\\Documents\\Learnings\\data\\aclImdb\\train\\pos','neg')\n",
    "all_reviews_train = pos_reviews_train + neg_reviews_train"
   ]
  },
  {
   "cell_type": "code",
   "execution_count": 11,
   "metadata": {},
   "outputs": [],
   "source": [
    "train_data = dict()\n",
    "train_data['reviews'] = all_reviews_train"
   ]
  },
  {
   "cell_type": "code",
   "execution_count": 12,
   "metadata": {},
   "outputs": [],
   "source": [
    "with open(os.path.join(par_dir,'data','imdb_train_reviews.json'),'w') as file:\n",
    "    json.dump(train_data,file)"
   ]
  },
  {
   "cell_type": "markdown",
   "metadata": {},
   "source": [
    "## Test data"
   ]
  },
  {
   "cell_type": "code",
   "execution_count": 13,
   "metadata": {},
   "outputs": [],
   "source": [
    "neg_reviews_test = read_data(r'C:\\Users\\giridhar\\Documents\\Learnings\\data\\aclImdb\\test\\neg','neg')\n",
    "pos_reviews_test = read_data(r'C:\\Users\\giridhar\\Documents\\Learnings\\data\\aclImdb\\test\\pos','neg')\n",
    "all_reviews_test = pos_reviews_test + neg_reviews_test"
   ]
  },
  {
   "cell_type": "code",
   "execution_count": 14,
   "metadata": {},
   "outputs": [],
   "source": [
    "test_data = dict()\n",
    "test_data['reviews'] = all_reviews_test"
   ]
  },
  {
   "cell_type": "code",
   "execution_count": 15,
   "metadata": {},
   "outputs": [],
   "source": [
    "with open(os.path.join(par_dir,'data','imdb_test_reviews.json'),'w') as file:\n",
    "    json.dump(test_data,file)"
   ]
  },
  {
   "cell_type": "code",
   "execution_count": null,
   "metadata": {},
   "outputs": [],
   "source": []
  }
 ],
 "metadata": {
  "kernelspec": {
   "display_name": "Python 3",
   "language": "python",
   "name": "python3"
  },
  "language_info": {
   "codemirror_mode": {
    "name": "ipython",
    "version": 3
   },
   "file_extension": ".py",
   "mimetype": "text/x-python",
   "name": "python",
   "nbconvert_exporter": "python",
   "pygments_lexer": "ipython3",
   "version": "3.7.3"
  }
 },
 "nbformat": 4,
 "nbformat_minor": 2
}
