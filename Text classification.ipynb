{
 "cells": [
  {
   "cell_type": "code",
   "execution_count": 1,
   "metadata": {},
   "outputs": [
    {
     "ename": "KeyboardInterrupt",
     "evalue": "",
     "output_type": "error",
     "traceback": [
      "\u001b[1;31m---------------------------------------------------------------------------\u001b[0m",
      "\u001b[1;31mKeyboardInterrupt\u001b[0m                         Traceback (most recent call last)",
      "\u001b[1;32m<ipython-input-1-4359b84b4fc3>\u001b[0m in \u001b[0;36m<module>\u001b[1;34m\u001b[0m\n\u001b[0;32m      1\u001b[0m \u001b[1;32mfrom\u001b[0m \u001b[0mdata_wrangling\u001b[0m\u001b[1;33m.\u001b[0m\u001b[0mdata_wrangling_reuters\u001b[0m \u001b[1;32mimport\u001b[0m \u001b[0mread_data\u001b[0m\u001b[1;33m\u001b[0m\u001b[1;33m\u001b[0m\u001b[0m\n\u001b[0;32m      2\u001b[0m \u001b[1;32mimport\u001b[0m \u001b[0mpandas\u001b[0m \u001b[1;32mas\u001b[0m \u001b[0mpd\u001b[0m\u001b[1;33m\u001b[0m\u001b[1;33m\u001b[0m\u001b[0m\n\u001b[1;32m----> 3\u001b[1;33m \u001b[1;32mimport\u001b[0m \u001b[0mnltk\u001b[0m\u001b[1;33m\u001b[0m\u001b[1;33m\u001b[0m\u001b[0m\n\u001b[0m\u001b[0;32m      4\u001b[0m \u001b[1;32mimport\u001b[0m \u001b[0mos\u001b[0m\u001b[1;33m\u001b[0m\u001b[1;33m\u001b[0m\u001b[0m\n",
      "\u001b[1;32m~\\Anaconda3\\lib\\site-packages\\nltk\\__init__.py\u001b[0m in \u001b[0;36m<module>\u001b[1;34m\u001b[0m\n\u001b[0;32m    127\u001b[0m \u001b[1;31m# Import top-level functionality into top-level namespace\u001b[0m\u001b[1;33m\u001b[0m\u001b[1;33m\u001b[0m\u001b[1;33m\u001b[0m\u001b[0m\n\u001b[0;32m    128\u001b[0m \u001b[1;33m\u001b[0m\u001b[0m\n\u001b[1;32m--> 129\u001b[1;33m \u001b[1;32mfrom\u001b[0m \u001b[0mnltk\u001b[0m\u001b[1;33m.\u001b[0m\u001b[0mcollocations\u001b[0m \u001b[1;32mimport\u001b[0m \u001b[1;33m*\u001b[0m\u001b[1;33m\u001b[0m\u001b[1;33m\u001b[0m\u001b[0m\n\u001b[0m\u001b[0;32m    130\u001b[0m \u001b[1;32mfrom\u001b[0m \u001b[0mnltk\u001b[0m\u001b[1;33m.\u001b[0m\u001b[0mdecorators\u001b[0m \u001b[1;32mimport\u001b[0m \u001b[0mdecorator\u001b[0m\u001b[1;33m,\u001b[0m \u001b[0mmemoize\u001b[0m\u001b[1;33m\u001b[0m\u001b[1;33m\u001b[0m\u001b[0m\n\u001b[0;32m    131\u001b[0m \u001b[1;32mfrom\u001b[0m \u001b[0mnltk\u001b[0m\u001b[1;33m.\u001b[0m\u001b[0mfeatstruct\u001b[0m \u001b[1;32mimport\u001b[0m \u001b[1;33m*\u001b[0m\u001b[1;33m\u001b[0m\u001b[1;33m\u001b[0m\u001b[0m\n",
      "\u001b[1;32m~\\Anaconda3\\lib\\site-packages\\nltk\\collocations.py\u001b[0m in \u001b[0;36m<module>\u001b[1;34m\u001b[0m\n\u001b[0;32m     38\u001b[0m \u001b[1;32mfrom\u001b[0m \u001b[0mnltk\u001b[0m\u001b[1;33m.\u001b[0m\u001b[0mutil\u001b[0m \u001b[1;32mimport\u001b[0m \u001b[0mngrams\u001b[0m\u001b[1;33m\u001b[0m\u001b[1;33m\u001b[0m\u001b[0m\n\u001b[0;32m     39\u001b[0m \u001b[1;31m# these two unused imports are referenced in collocations.doctest\u001b[0m\u001b[1;33m\u001b[0m\u001b[1;33m\u001b[0m\u001b[1;33m\u001b[0m\u001b[0m\n\u001b[1;32m---> 40\u001b[1;33m \u001b[1;32mfrom\u001b[0m \u001b[0mnltk\u001b[0m\u001b[1;33m.\u001b[0m\u001b[0mmetrics\u001b[0m \u001b[1;32mimport\u001b[0m \u001b[0mContingencyMeasures\u001b[0m\u001b[1;33m,\u001b[0m \u001b[0mBigramAssocMeasures\u001b[0m\u001b[1;33m,\u001b[0m \u001b[0mTrigramAssocMeasures\u001b[0m\u001b[1;33m\u001b[0m\u001b[1;33m\u001b[0m\u001b[0m\n\u001b[0m\u001b[0;32m     41\u001b[0m \u001b[1;32mfrom\u001b[0m \u001b[0mnltk\u001b[0m\u001b[1;33m.\u001b[0m\u001b[0mmetrics\u001b[0m\u001b[1;33m.\u001b[0m\u001b[0mspearman\u001b[0m \u001b[1;32mimport\u001b[0m \u001b[0mranks_from_scores\u001b[0m\u001b[1;33m,\u001b[0m \u001b[0mspearman_correlation\u001b[0m\u001b[1;33m\u001b[0m\u001b[1;33m\u001b[0m\u001b[0m\n\u001b[0;32m     42\u001b[0m \u001b[1;33m\u001b[0m\u001b[0m\n",
      "\u001b[1;32m~\\Anaconda3\\lib\\site-packages\\nltk\\metrics\\__init__.py\u001b[0m in \u001b[0;36m<module>\u001b[1;34m\u001b[0m\n\u001b[0;32m     14\u001b[0m \"\"\"\n\u001b[0;32m     15\u001b[0m \u001b[1;33m\u001b[0m\u001b[0m\n\u001b[1;32m---> 16\u001b[1;33m from nltk.metrics.scores import (\n\u001b[0m\u001b[0;32m     17\u001b[0m     \u001b[0maccuracy\u001b[0m\u001b[1;33m,\u001b[0m\u001b[1;33m\u001b[0m\u001b[1;33m\u001b[0m\u001b[0m\n\u001b[0;32m     18\u001b[0m     \u001b[0mprecision\u001b[0m\u001b[1;33m,\u001b[0m\u001b[1;33m\u001b[0m\u001b[1;33m\u001b[0m\u001b[0m\n",
      "\u001b[1;32m~\\Anaconda3\\lib\\site-packages\\nltk\\metrics\\scores.py\u001b[0m in \u001b[0;36m<module>\u001b[1;34m\u001b[0m\n\u001b[0;32m     16\u001b[0m \u001b[1;33m\u001b[0m\u001b[0m\n\u001b[0;32m     17\u001b[0m \u001b[1;32mtry\u001b[0m\u001b[1;33m:\u001b[0m\u001b[1;33m\u001b[0m\u001b[1;33m\u001b[0m\u001b[0m\n\u001b[1;32m---> 18\u001b[1;33m     \u001b[1;32mfrom\u001b[0m \u001b[0mscipy\u001b[0m\u001b[1;33m.\u001b[0m\u001b[0mstats\u001b[0m\u001b[1;33m.\u001b[0m\u001b[0mstats\u001b[0m \u001b[1;32mimport\u001b[0m \u001b[0mbetai\u001b[0m\u001b[1;33m\u001b[0m\u001b[1;33m\u001b[0m\u001b[0m\n\u001b[0m\u001b[0;32m     19\u001b[0m \u001b[1;32mexcept\u001b[0m \u001b[0mImportError\u001b[0m\u001b[1;33m:\u001b[0m\u001b[1;33m\u001b[0m\u001b[1;33m\u001b[0m\u001b[0m\n\u001b[0;32m     20\u001b[0m     \u001b[0mbetai\u001b[0m \u001b[1;33m=\u001b[0m \u001b[1;32mNone\u001b[0m\u001b[1;33m\u001b[0m\u001b[1;33m\u001b[0m\u001b[0m\n",
      "\u001b[1;32m~\\Anaconda3\\lib\\site-packages\\scipy\\stats\\__init__.py\u001b[0m in \u001b[0;36m<module>\u001b[1;34m\u001b[0m\n\u001b[0;32m    365\u001b[0m \u001b[1;32mfrom\u001b[0m \u001b[0m__future__\u001b[0m \u001b[1;32mimport\u001b[0m \u001b[0mdivision\u001b[0m\u001b[1;33m,\u001b[0m \u001b[0mprint_function\u001b[0m\u001b[1;33m,\u001b[0m \u001b[0mabsolute_import\u001b[0m\u001b[1;33m\u001b[0m\u001b[1;33m\u001b[0m\u001b[0m\n\u001b[0;32m    366\u001b[0m \u001b[1;33m\u001b[0m\u001b[0m\n\u001b[1;32m--> 367\u001b[1;33m \u001b[1;32mfrom\u001b[0m \u001b[1;33m.\u001b[0m\u001b[0mstats\u001b[0m \u001b[1;32mimport\u001b[0m \u001b[1;33m*\u001b[0m\u001b[1;33m\u001b[0m\u001b[1;33m\u001b[0m\u001b[0m\n\u001b[0m\u001b[0;32m    368\u001b[0m \u001b[1;32mfrom\u001b[0m \u001b[1;33m.\u001b[0m\u001b[0mdistributions\u001b[0m \u001b[1;32mimport\u001b[0m \u001b[1;33m*\u001b[0m\u001b[1;33m\u001b[0m\u001b[1;33m\u001b[0m\u001b[0m\n\u001b[0;32m    369\u001b[0m \u001b[1;32mfrom\u001b[0m \u001b[1;33m.\u001b[0m\u001b[0mmorestats\u001b[0m \u001b[1;32mimport\u001b[0m \u001b[1;33m*\u001b[0m\u001b[1;33m\u001b[0m\u001b[1;33m\u001b[0m\u001b[0m\n",
      "\u001b[1;32m~\\Anaconda3\\lib\\site-packages\\scipy\\stats\\stats.py\u001b[0m in \u001b[0;36m<module>\u001b[1;34m\u001b[0m\n\u001b[0;32m    171\u001b[0m \u001b[1;32mfrom\u001b[0m \u001b[0mscipy\u001b[0m\u001b[1;33m.\u001b[0m\u001b[0m_lib\u001b[0m\u001b[1;33m.\u001b[0m\u001b[0m_util\u001b[0m \u001b[1;32mimport\u001b[0m \u001b[0m_lazywhere\u001b[0m\u001b[1;33m\u001b[0m\u001b[1;33m\u001b[0m\u001b[0m\n\u001b[0;32m    172\u001b[0m \u001b[1;32mimport\u001b[0m \u001b[0mscipy\u001b[0m\u001b[1;33m.\u001b[0m\u001b[0mspecial\u001b[0m \u001b[1;32mas\u001b[0m \u001b[0mspecial\u001b[0m\u001b[1;33m\u001b[0m\u001b[1;33m\u001b[0m\u001b[0m\n\u001b[1;32m--> 173\u001b[1;33m \u001b[1;32mfrom\u001b[0m \u001b[1;33m.\u001b[0m \u001b[1;32mimport\u001b[0m \u001b[0mdistributions\u001b[0m\u001b[1;33m\u001b[0m\u001b[1;33m\u001b[0m\u001b[0m\n\u001b[0m\u001b[0;32m    174\u001b[0m \u001b[1;32mfrom\u001b[0m \u001b[1;33m.\u001b[0m \u001b[1;32mimport\u001b[0m \u001b[0mmstats_basic\u001b[0m\u001b[1;33m\u001b[0m\u001b[1;33m\u001b[0m\u001b[0m\n\u001b[0;32m    175\u001b[0m \u001b[1;32mfrom\u001b[0m \u001b[1;33m.\u001b[0m\u001b[0m_stats_mstats_common\u001b[0m \u001b[1;32mimport\u001b[0m \u001b[0m_find_repeats\u001b[0m\u001b[1;33m,\u001b[0m \u001b[0mlinregress\u001b[0m\u001b[1;33m,\u001b[0m \u001b[0mtheilslopes\u001b[0m\u001b[1;33m,\u001b[0m \u001b[0msiegelslopes\u001b[0m\u001b[1;33m\u001b[0m\u001b[1;33m\u001b[0m\u001b[0m\n",
      "\u001b[1;32m~\\Anaconda3\\lib\\site-packages\\scipy\\stats\\distributions.py\u001b[0m in \u001b[0;36m<module>\u001b[1;34m\u001b[0m\n\u001b[0;32m     11\u001b[0m                                     rv_frozen)\n\u001b[0;32m     12\u001b[0m \u001b[1;33m\u001b[0m\u001b[0m\n\u001b[1;32m---> 13\u001b[1;33m \u001b[1;32mfrom\u001b[0m \u001b[1;33m.\u001b[0m \u001b[1;32mimport\u001b[0m \u001b[0m_continuous_distns\u001b[0m\u001b[1;33m\u001b[0m\u001b[1;33m\u001b[0m\u001b[0m\n\u001b[0m\u001b[0;32m     14\u001b[0m \u001b[1;32mfrom\u001b[0m \u001b[1;33m.\u001b[0m \u001b[1;32mimport\u001b[0m \u001b[0m_discrete_distns\u001b[0m\u001b[1;33m\u001b[0m\u001b[1;33m\u001b[0m\u001b[0m\n\u001b[0;32m     15\u001b[0m \u001b[1;33m\u001b[0m\u001b[0m\n",
      "\u001b[1;32m~\\Anaconda3\\lib\\site-packages\\scipy\\stats\\_continuous_distns.py\u001b[0m in \u001b[0;36m<module>\u001b[1;34m\u001b[0m\n\u001b[0;32m   3433\u001b[0m \u001b[1;33m\u001b[0m\u001b[0m\n\u001b[0;32m   3434\u001b[0m \u001b[1;33m\u001b[0m\u001b[0m\n\u001b[1;32m-> 3435\u001b[1;33m \u001b[0minvweibull\u001b[0m \u001b[1;33m=\u001b[0m \u001b[0minvweibull_gen\u001b[0m\u001b[1;33m(\u001b[0m\u001b[0ma\u001b[0m\u001b[1;33m=\u001b[0m\u001b[1;36m0\u001b[0m\u001b[1;33m,\u001b[0m \u001b[0mname\u001b[0m\u001b[1;33m=\u001b[0m\u001b[1;34m'invweibull'\u001b[0m\u001b[1;33m)\u001b[0m\u001b[1;33m\u001b[0m\u001b[1;33m\u001b[0m\u001b[0m\n\u001b[0m\u001b[0;32m   3436\u001b[0m \u001b[1;33m\u001b[0m\u001b[0m\n\u001b[0;32m   3437\u001b[0m \u001b[1;33m\u001b[0m\u001b[0m\n",
      "\u001b[1;32m~\\Anaconda3\\lib\\site-packages\\scipy\\stats\\_distn_infrastructure.py\u001b[0m in \u001b[0;36m__init__\u001b[1;34m(self, momtype, a, b, xtol, badvalue, name, longname, shapes, extradoc, seed)\u001b[0m\n\u001b[0;32m   1558\u001b[0m             \u001b[1;32melse\u001b[0m\u001b[1;33m:\u001b[0m\u001b[1;33m\u001b[0m\u001b[1;33m\u001b[0m\u001b[0m\n\u001b[0;32m   1559\u001b[0m                 \u001b[0mdct\u001b[0m \u001b[1;33m=\u001b[0m \u001b[0mdict\u001b[0m\u001b[1;33m(\u001b[0m\u001b[0mdistcont\u001b[0m\u001b[1;33m)\u001b[0m\u001b[1;33m\u001b[0m\u001b[1;33m\u001b[0m\u001b[0m\n\u001b[1;32m-> 1560\u001b[1;33m                 \u001b[0mself\u001b[0m\u001b[1;33m.\u001b[0m\u001b[0m_construct_doc\u001b[0m\u001b[1;33m(\u001b[0m\u001b[0mdocdict\u001b[0m\u001b[1;33m,\u001b[0m \u001b[0mdct\u001b[0m\u001b[1;33m.\u001b[0m\u001b[0mget\u001b[0m\u001b[1;33m(\u001b[0m\u001b[0mself\u001b[0m\u001b[1;33m.\u001b[0m\u001b[0mname\u001b[0m\u001b[1;33m)\u001b[0m\u001b[1;33m)\u001b[0m\u001b[1;33m\u001b[0m\u001b[1;33m\u001b[0m\u001b[0m\n\u001b[0m\u001b[0;32m   1561\u001b[0m \u001b[1;33m\u001b[0m\u001b[0m\n\u001b[0;32m   1562\u001b[0m     \u001b[1;32mdef\u001b[0m \u001b[0m_updated_ctor_param\u001b[0m\u001b[1;33m(\u001b[0m\u001b[0mself\u001b[0m\u001b[1;33m)\u001b[0m\u001b[1;33m:\u001b[0m\u001b[1;33m\u001b[0m\u001b[1;33m\u001b[0m\u001b[0m\n",
      "\u001b[1;32m~\\Anaconda3\\lib\\site-packages\\scipy\\stats\\_distn_infrastructure.py\u001b[0m in \u001b[0;36m_construct_doc\u001b[1;34m(self, docdict, shapes_vals)\u001b[0m\n\u001b[0;32m    731\u001b[0m                 \u001b[1;31m# necessary because we use %(shapes)s in two forms (w w/o \", \")\u001b[0m\u001b[1;33m\u001b[0m\u001b[1;33m\u001b[0m\u001b[1;33m\u001b[0m\u001b[0m\n\u001b[0;32m    732\u001b[0m                 \u001b[0mself\u001b[0m\u001b[1;33m.\u001b[0m\u001b[0m__doc__\u001b[0m \u001b[1;33m=\u001b[0m \u001b[0mself\u001b[0m\u001b[1;33m.\u001b[0m\u001b[0m__doc__\u001b[0m\u001b[1;33m.\u001b[0m\u001b[0mreplace\u001b[0m\u001b[1;33m(\u001b[0m\u001b[1;34m\"%(shapes)s, \"\u001b[0m\u001b[1;33m,\u001b[0m \u001b[1;34m\"\"\u001b[0m\u001b[1;33m)\u001b[0m\u001b[1;33m\u001b[0m\u001b[1;33m\u001b[0m\u001b[0m\n\u001b[1;32m--> 733\u001b[1;33m             \u001b[0mself\u001b[0m\u001b[1;33m.\u001b[0m\u001b[0m__doc__\u001b[0m \u001b[1;33m=\u001b[0m \u001b[0mdoccer\u001b[0m\u001b[1;33m.\u001b[0m\u001b[0mdocformat\u001b[0m\u001b[1;33m(\u001b[0m\u001b[0mself\u001b[0m\u001b[1;33m.\u001b[0m\u001b[0m__doc__\u001b[0m\u001b[1;33m,\u001b[0m \u001b[0mtempdict\u001b[0m\u001b[1;33m)\u001b[0m\u001b[1;33m\u001b[0m\u001b[1;33m\u001b[0m\u001b[0m\n\u001b[0m\u001b[0;32m    734\u001b[0m \u001b[1;33m\u001b[0m\u001b[0m\n\u001b[0;32m    735\u001b[0m         \u001b[1;31m# correct for empty shapes\u001b[0m\u001b[1;33m\u001b[0m\u001b[1;33m\u001b[0m\u001b[1;33m\u001b[0m\u001b[0m\n",
      "\u001b[1;32m~\\Anaconda3\\lib\\site-packages\\scipy\\misc\\doccer.py\u001b[0m in \u001b[0;36mdocformat\u001b[1;34m(docstring, docdict)\u001b[0m\n\u001b[0;32m     62\u001b[0m             \u001b[0mnewlines\u001b[0m \u001b[1;33m=\u001b[0m \u001b[1;33m[\u001b[0m\u001b[0mlines\u001b[0m\u001b[1;33m[\u001b[0m\u001b[1;36m0\u001b[0m\u001b[1;33m]\u001b[0m\u001b[1;33m]\u001b[0m\u001b[1;33m\u001b[0m\u001b[1;33m\u001b[0m\u001b[0m\n\u001b[0;32m     63\u001b[0m             \u001b[1;32mfor\u001b[0m \u001b[0mline\u001b[0m \u001b[1;32min\u001b[0m \u001b[0mlines\u001b[0m\u001b[1;33m[\u001b[0m\u001b[1;36m1\u001b[0m\u001b[1;33m:\u001b[0m\u001b[1;33m]\u001b[0m\u001b[1;33m:\u001b[0m\u001b[1;33m\u001b[0m\u001b[1;33m\u001b[0m\u001b[0m\n\u001b[1;32m---> 64\u001b[1;33m                 \u001b[0mnewlines\u001b[0m\u001b[1;33m.\u001b[0m\u001b[0mappend\u001b[0m\u001b[1;33m(\u001b[0m\u001b[0mindent\u001b[0m\u001b[1;33m+\u001b[0m\u001b[0mline\u001b[0m\u001b[1;33m)\u001b[0m\u001b[1;33m\u001b[0m\u001b[1;33m\u001b[0m\u001b[0m\n\u001b[0m\u001b[0;32m     65\u001b[0m             \u001b[0mindented\u001b[0m\u001b[1;33m[\u001b[0m\u001b[0mname\u001b[0m\u001b[1;33m]\u001b[0m \u001b[1;33m=\u001b[0m \u001b[1;34m'\\n'\u001b[0m\u001b[1;33m.\u001b[0m\u001b[0mjoin\u001b[0m\u001b[1;33m(\u001b[0m\u001b[0mnewlines\u001b[0m\u001b[1;33m)\u001b[0m\u001b[1;33m\u001b[0m\u001b[1;33m\u001b[0m\u001b[0m\n\u001b[0;32m     66\u001b[0m         \u001b[1;32mexcept\u001b[0m \u001b[0mIndexError\u001b[0m\u001b[1;33m:\u001b[0m\u001b[1;33m\u001b[0m\u001b[1;33m\u001b[0m\u001b[0m\n",
      "\u001b[1;31mKeyboardInterrupt\u001b[0m: "
     ]
    }
   ],
   "source": [
    "from data_wrangling.data_wrangling_reuters import read_data\n",
    "import pandas as pd\n",
    "import nltk\n",
    "import os"
   ]
  },
  {
   "cell_type": "markdown",
   "metadata": {},
   "source": [
    "*Reading data from data wrangling module built , to a pandas dataframe*"
   ]
  },
  {
   "cell_type": "code",
   "execution_count": 47,
   "metadata": {},
   "outputs": [],
   "source": [
    "data = pd.DataFrame(read_data(os.path.join(os.getcwd(),'data','reuters')))"
   ]
  },
  {
   "cell_type": "markdown",
   "metadata": {},
   "source": [
    "*Identifying the records with topics present for classification task*"
   ]
  },
  {
   "cell_type": "code",
   "execution_count": 48,
   "metadata": {},
   "outputs": [],
   "source": [
    "data = data[data['TOPICS'] == \"\\\"YES\\\"\"]"
   ]
  },
  {
   "cell_type": "markdown",
   "metadata": {},
   "source": [
    "*Getting the unique list of the topics in data*"
   ]
  },
  {
   "cell_type": "code",
   "execution_count": 15,
   "metadata": {},
   "outputs": [],
   "source": [
    "topics = []\n",
    "for topics_list in data['topics_list'].values:\n",
    "    topics.extend(topics_list)"
   ]
  },
  {
   "cell_type": "code",
   "execution_count": 17,
   "metadata": {},
   "outputs": [],
   "source": [
    "topics = [topic for topic in set(topics)]"
   ]
  },
  {
   "cell_type": "markdown",
   "metadata": {},
   "source": [
    "*All the topics in data*"
   ]
  },
  {
   "cell_type": "code",
   "execution_count": 30,
   "metadata": {},
   "outputs": [
    {
     "name": "stdout",
     "output_type": "stream",
     "text": [
      "['fuel', 'housing', 'money-supply', 'gold', 'oilseed', 'lumber', 'coconut', 'sfr', 'fishmeal', 'sun-meal', 'soy-oil', 'cpi', 'skr', 'sorghum', 'corn-oil', 'can', 'stg', 'livestock', 'lit', 'cocoa', 'dkr', 'hk', 'reserves', 'citruspulp', 'strategic-metal', 'lin-meal', 'cotton', 'tapioca', 'peseta', 'rice', 'naphtha', 'hog', 'sugar', 'platinum', 'dlr', 'palmkernel', 'rupiah', 'money-fx', 'rand', 'copra-cake', 'cruzado', 'retail', 'palm-oil', 'cotton-oil', 'nat-gas', 'bop', 'gas', 'earn', 'oat', 'dfl', 'wool', 'orange', 'lei', 'carcass', 'saudriyal', 'veg-oil', 'zinc', 'palladium', 'heat', 'red-bean', 'alum', 'trade', 'linseed', 'pork-belly', 'corn', 'instal-debt', 'tea', 'rape-meal', 'groundnut', 'copper', 'castor-oil', 'nickel', 'sun-oil', 'l-cattle', 'coconut-oil', 'lead', 'iron-steel', 'sunseed', 'jobs', 'yen', 'silver', 'grain', 'coffee', 'inventories', 'cornglutenfeed', 'income', 'nzdlr', 'dmk', 'rubber', 'crude', 'rape-oil', 'ringgit', 'gnp', 'acq', 'plywood', 'potato', 'interest', 'cpu', 'bfr', 'ipi', 'soy-meal', 'nkr', 'jet', 'ship', 'barley', 'cottonseed', 'castorseed', 'meal-feed', 'austdlr', 'groundnut-oil', 'tin', 'rye', 'pet-chem', 'propane', 'rapeseed', 'wpi', 'f-cattle', 'lin-oil', 'wheat', 'soybean']\n"
     ]
    }
   ],
   "source": [
    "print(topics)"
   ]
  },
  {
   "cell_type": "markdown",
   "metadata": {},
   "source": [
    "*Identifying the most frequent topics*"
   ]
  },
  {
   "cell_type": "code",
   "execution_count": 21,
   "metadata": {},
   "outputs": [],
   "source": [
    "topics_dict = {topic:0 for topic in topics}"
   ]
  },
  {
   "cell_type": "code",
   "execution_count": 23,
   "metadata": {},
   "outputs": [],
   "source": [
    "for topics_list in data['topics_list'].values:\n",
    "    for topic in topics_list:\n",
    "        topics_dict[topic] += 1"
   ]
  },
  {
   "cell_type": "code",
   "execution_count": 27,
   "metadata": {},
   "outputs": [],
   "source": [
    "topics_dist = nltk.FreqDist()"
   ]
  },
  {
   "cell_type": "code",
   "execution_count": 28,
   "metadata": {},
   "outputs": [],
   "source": [
    "for key in topics_dict:\n",
    "    topics_dist[key] = topics_dict[key]"
   ]
  },
  {
   "cell_type": "markdown",
   "metadata": {},
   "source": [
    "*Top 5 most frequent classes*"
   ]
  },
  {
   "cell_type": "code",
   "execution_count": 31,
   "metadata": {},
   "outputs": [
    {
     "data": {
      "text/plain": [
       "[('earn', 3986),\n",
       " ('acq', 2448),\n",
       " ('money-fx', 799),\n",
       " ('crude', 632),\n",
       " ('grain', 627)]"
      ]
     },
     "execution_count": 31,
     "metadata": {},
     "output_type": "execute_result"
    }
   ],
   "source": [
    "topics_dist.most_common(5)"
   ]
  },
  {
   "cell_type": "code",
   "execution_count": 33,
   "metadata": {},
   "outputs": [],
   "source": [
    "topics_for_clssif = ['earn','acq','money-fx','crude','grain']"
   ]
  },
  {
   "cell_type": "code",
   "execution_count": 50,
   "metadata": {},
   "outputs": [],
   "source": [
    "def topic_in_classif(topics):\n",
    "    found_topics = []\n",
    "    for topic in topics:\n",
    "        if topic in topics_for_clssif:\n",
    "            found_topics.append(topic)\n",
    "    return found_topics"
   ]
  },
  {
   "cell_type": "code",
   "execution_count": 51,
   "metadata": {},
   "outputs": [],
   "source": [
    "data['classif_topic'] = data['topics_list'].apply(lambda topics:topic_in_classif(topics))"
   ]
  },
  {
   "cell_type": "code",
   "execution_count": 55,
   "metadata": {},
   "outputs": [],
   "source": [
    "data = data[data['classif_topic'].apply(lambda x:True if len(x)>0 else False)]"
   ]
  },
  {
   "cell_type": "code",
   "execution_count": 58,
   "metadata": {},
   "outputs": [
    {
     "data": {
      "text/html": [
       "<div>\n",
       "<style scoped>\n",
       "    .dataframe tbody tr th:only-of-type {\n",
       "        vertical-align: middle;\n",
       "    }\n",
       "\n",
       "    .dataframe tbody tr th {\n",
       "        vertical-align: top;\n",
       "    }\n",
       "\n",
       "    .dataframe thead th {\n",
       "        text-align: right;\n",
       "    }\n",
       "</style>\n",
       "<table border=\"1\" class=\"dataframe\">\n",
       "  <thead>\n",
       "    <tr style=\"text-align: right;\">\n",
       "      <th></th>\n",
       "      <th>TOPICS</th>\n",
       "      <th>LEWISSPLIT</th>\n",
       "      <th>CGISPLIT</th>\n",
       "      <th>OLDID</th>\n",
       "      <th>NEWID</th>\n",
       "      <th>content</th>\n",
       "      <th>title</th>\n",
       "      <th>topics_list</th>\n",
       "      <th>CSECS</th>\n",
       "      <th>classif_topic</th>\n",
       "    </tr>\n",
       "  </thead>\n",
       "  <tbody>\n",
       "    <tr>\n",
       "      <td>11</td>\n",
       "      <td>\"YES\"</td>\n",
       "      <td>\"TRAIN\"</td>\n",
       "      <td>\"TRAINING-SET\"</td>\n",
       "      <td>\"5555\"</td>\n",
       "      <td>\"12\"</td>\n",
       "      <td>Ohio Mattress Co said its firstquarter, ending...</td>\n",
       "      <td>OHIO MATTRESS &amp;lt;OMT&gt; MAY HAVE LOWER 1ST QTR NET</td>\n",
       "      <td>[earn, acq]</td>\n",
       "      <td>NaN</td>\n",
       "      <td>[earn, acq]</td>\n",
       "    </tr>\n",
       "    <tr>\n",
       "      <td>472</td>\n",
       "      <td>\"YES\"</td>\n",
       "      <td>\"TRAIN\"</td>\n",
       "      <td>\"TRAINING-SET\"</td>\n",
       "      <td>\"12656\"</td>\n",
       "      <td>\"473\"</td>\n",
       "      <td>&amp;lt;Multi-Step Products Inc&gt;, earlierreporting...</td>\n",
       "      <td>MULTI-STEP TO SELL LADDER UNIT, CANCEL SHARES</td>\n",
       "      <td>[earn, acq]</td>\n",
       "      <td>NaN</td>\n",
       "      <td>[earn, acq]</td>\n",
       "    </tr>\n",
       "    <tr>\n",
       "      <td>729</td>\n",
       "      <td>\"YES\"</td>\n",
       "      <td>\"TRAIN\"</td>\n",
       "      <td>\"TRAINING-SET\"</td>\n",
       "      <td>\"12913\"</td>\n",
       "      <td>\"730\"</td>\n",
       "      <td>Imperial Chemical Industries PLC, thelargest c...</td>\n",
       "      <td>ICI &amp;lt;ICI&gt; SEEKS GAINS IN SPECIALTY BUSINESSES</td>\n",
       "      <td>[earn, acq]</td>\n",
       "      <td>NaN</td>\n",
       "      <td>[earn, acq]</td>\n",
       "    </tr>\n",
       "    <tr>\n",
       "      <td>987</td>\n",
       "      <td>\"YES\"</td>\n",
       "      <td>\"TRAIN\"</td>\n",
       "      <td>\"TRAINING-SET\"</td>\n",
       "      <td>\"16308\"</td>\n",
       "      <td>\"988\"</td>\n",
       "      <td>&amp;lt;BP Oil Ltd&gt;, the U.K. Marketing andrefinin...</td>\n",
       "      <td>BP OIL RAISES OPERATING PROFIT</td>\n",
       "      <td>[earn, crude]</td>\n",
       "      <td>NaN</td>\n",
       "      <td>[earn, crude]</td>\n",
       "    </tr>\n",
       "    <tr>\n",
       "      <td>1859</td>\n",
       "      <td>\"YES\"</td>\n",
       "      <td>\"TRAIN\"</td>\n",
       "      <td>\"TRAINING-SET\"</td>\n",
       "      <td>\"18278\"</td>\n",
       "      <td>\"1860\"</td>\n",
       "      <td>Allis-Chalmers Corp said it askedlenders and o...</td>\n",
       "      <td>ALLIS-CHALMERS &amp;lt;AH&gt; PROPOSES RESTRUCTURING</td>\n",
       "      <td>[acq, earn]</td>\n",
       "      <td>NaN</td>\n",
       "      <td>[acq, earn]</td>\n",
       "    </tr>\n",
       "    <tr>\n",
       "      <td>...</td>\n",
       "      <td>...</td>\n",
       "      <td>...</td>\n",
       "      <td>...</td>\n",
       "      <td>...</td>\n",
       "      <td>...</td>\n",
       "      <td>...</td>\n",
       "      <td>...</td>\n",
       "      <td>...</td>\n",
       "      <td>...</td>\n",
       "      <td>...</td>\n",
       "    </tr>\n",
       "    <tr>\n",
       "      <td>17912</td>\n",
       "      <td>\"YES\"</td>\n",
       "      <td>\"TEST\"</td>\n",
       "      <td>\"TRAINING-SET\"</td>\n",
       "      <td>\"7358\"</td>\n",
       "      <td>\"17913\"</td>\n",
       "      <td>Santos Ltd &amp;lt;STOS.S&gt; said it would buy&amp;lt;To...</td>\n",
       "      <td>SANTOS TO ACQUIRE TOTAL EXPLORATION AUSTRALIA</td>\n",
       "      <td>[acq, crude, nat-gas]</td>\n",
       "      <td>NaN</td>\n",
       "      <td>[acq, crude]</td>\n",
       "    </tr>\n",
       "    <tr>\n",
       "      <td>18324</td>\n",
       "      <td>\"YES\"</td>\n",
       "      <td>\"TEST\"</td>\n",
       "      <td>\"TRAINING-SET\"</td>\n",
       "      <td>\"7770\"</td>\n",
       "      <td>\"18325\"</td>\n",
       "      <td>Amoco Corp's wholly owned AmocoCanada Petroleu...</td>\n",
       "      <td>AMOCO &amp;lt;AN&gt; SAYS DOME &amp;lt;DMP&gt; BUY GOOD FOR ...</td>\n",
       "      <td>[acq, crude, nat-gas]</td>\n",
       "      <td>NaN</td>\n",
       "      <td>[acq, crude]</td>\n",
       "    </tr>\n",
       "    <tr>\n",
       "      <td>18856</td>\n",
       "      <td>\"YES\"</td>\n",
       "      <td>\"TEST\"</td>\n",
       "      <td>\"TRAINING-SET\"</td>\n",
       "      <td>\"6609\"</td>\n",
       "      <td>\"18857\"</td>\n",
       "      <td>Kelley Oil and Gas Partners Ltd said ithas agr...</td>\n",
       "      <td>KELLEY OIL &amp;lt;KLY&gt; BUYING OIL PROPERTIES</td>\n",
       "      <td>[acq, crude, nat-gas]</td>\n",
       "      <td>NaN</td>\n",
       "      <td>[acq, crude]</td>\n",
       "    </tr>\n",
       "    <tr>\n",
       "      <td>19868</td>\n",
       "      <td>\"YES\"</td>\n",
       "      <td>\"TEST\"</td>\n",
       "      <td>\"TRAINING-SET\"</td>\n",
       "      <td>\"8197\"</td>\n",
       "      <td>\"19869\"</td>\n",
       "      <td>Venezuela's cabinet approved a newexchange rat...</td>\n",
       "      <td>VENEZUELA LOWERS EXCHANGE RATE FOR OIL EARNINGS</td>\n",
       "      <td>[money-fx, crude]</td>\n",
       "      <td>NaN</td>\n",
       "      <td>[money-fx, crude]</td>\n",
       "    </tr>\n",
       "    <tr>\n",
       "      <td>21416</td>\n",
       "      <td>\"YES\"</td>\n",
       "      <td>\"TEST\"</td>\n",
       "      <td>\"TRAINING-SET\"</td>\n",
       "      <td>\"20019\"</td>\n",
       "      <td>\"21417\"</td>\n",
       "      <td>NUI Corp said it is studyingthe feasibility of...</td>\n",
       "      <td>NUI &amp;lt;NUI&gt; MAY SPIN OFF NONUTILITY OPERATIONS</td>\n",
       "      <td>[acq, crude, nat-gas]</td>\n",
       "      <td>NaN</td>\n",
       "      <td>[acq, crude]</td>\n",
       "    </tr>\n",
       "  </tbody>\n",
       "</table>\n",
       "<p>65 rows × 10 columns</p>\n",
       "</div>"
      ],
      "text/plain": [
       "      TOPICS LEWISSPLIT        CGISPLIT    OLDID    NEWID  \\\n",
       "11     \"YES\"    \"TRAIN\"  \"TRAINING-SET\"   \"5555\"     \"12\"   \n",
       "472    \"YES\"    \"TRAIN\"  \"TRAINING-SET\"  \"12656\"    \"473\"   \n",
       "729    \"YES\"    \"TRAIN\"  \"TRAINING-SET\"  \"12913\"    \"730\"   \n",
       "987    \"YES\"    \"TRAIN\"  \"TRAINING-SET\"  \"16308\"    \"988\"   \n",
       "1859   \"YES\"    \"TRAIN\"  \"TRAINING-SET\"  \"18278\"   \"1860\"   \n",
       "...      ...        ...             ...      ...      ...   \n",
       "17912  \"YES\"     \"TEST\"  \"TRAINING-SET\"   \"7358\"  \"17913\"   \n",
       "18324  \"YES\"     \"TEST\"  \"TRAINING-SET\"   \"7770\"  \"18325\"   \n",
       "18856  \"YES\"     \"TEST\"  \"TRAINING-SET\"   \"6609\"  \"18857\"   \n",
       "19868  \"YES\"     \"TEST\"  \"TRAINING-SET\"   \"8197\"  \"19869\"   \n",
       "21416  \"YES\"     \"TEST\"  \"TRAINING-SET\"  \"20019\"  \"21417\"   \n",
       "\n",
       "                                                 content  \\\n",
       "11     Ohio Mattress Co said its firstquarter, ending...   \n",
       "472    &lt;Multi-Step Products Inc>, earlierreporting...   \n",
       "729    Imperial Chemical Industries PLC, thelargest c...   \n",
       "987    &lt;BP Oil Ltd>, the U.K. Marketing andrefinin...   \n",
       "1859   Allis-Chalmers Corp said it askedlenders and o...   \n",
       "...                                                  ...   \n",
       "17912  Santos Ltd &lt;STOS.S> said it would buy&lt;To...   \n",
       "18324  Amoco Corp's wholly owned AmocoCanada Petroleu...   \n",
       "18856  Kelley Oil and Gas Partners Ltd said ithas agr...   \n",
       "19868  Venezuela's cabinet approved a newexchange rat...   \n",
       "21416  NUI Corp said it is studyingthe feasibility of...   \n",
       "\n",
       "                                                   title  \\\n",
       "11     OHIO MATTRESS &lt;OMT> MAY HAVE LOWER 1ST QTR NET   \n",
       "472        MULTI-STEP TO SELL LADDER UNIT, CANCEL SHARES   \n",
       "729     ICI &lt;ICI> SEEKS GAINS IN SPECIALTY BUSINESSES   \n",
       "987                       BP OIL RAISES OPERATING PROFIT   \n",
       "1859       ALLIS-CHALMERS &lt;AH> PROPOSES RESTRUCTURING   \n",
       "...                                                  ...   \n",
       "17912      SANTOS TO ACQUIRE TOTAL EXPLORATION AUSTRALIA   \n",
       "18324  AMOCO &lt;AN> SAYS DOME &lt;DMP> BUY GOOD FOR ...   \n",
       "18856          KELLEY OIL &lt;KLY> BUYING OIL PROPERTIES   \n",
       "19868    VENEZUELA LOWERS EXCHANGE RATE FOR OIL EARNINGS   \n",
       "21416    NUI &lt;NUI> MAY SPIN OFF NONUTILITY OPERATIONS   \n",
       "\n",
       "                 topics_list CSECS      classif_topic  \n",
       "11               [earn, acq]   NaN        [earn, acq]  \n",
       "472              [earn, acq]   NaN        [earn, acq]  \n",
       "729              [earn, acq]   NaN        [earn, acq]  \n",
       "987            [earn, crude]   NaN      [earn, crude]  \n",
       "1859             [acq, earn]   NaN        [acq, earn]  \n",
       "...                      ...   ...                ...  \n",
       "17912  [acq, crude, nat-gas]   NaN       [acq, crude]  \n",
       "18324  [acq, crude, nat-gas]   NaN       [acq, crude]  \n",
       "18856  [acq, crude, nat-gas]   NaN       [acq, crude]  \n",
       "19868      [money-fx, crude]   NaN  [money-fx, crude]  \n",
       "21416  [acq, crude, nat-gas]   NaN       [acq, crude]  \n",
       "\n",
       "[65 rows x 10 columns]"
      ]
     },
     "execution_count": 58,
     "metadata": {},
     "output_type": "execute_result"
    }
   ],
   "source": [
    "data[data['classif_topic'].apply(lambda x:True if len(x)>1 else False)]"
   ]
  },
  {
   "cell_type": "code",
   "execution_count": null,
   "metadata": {},
   "outputs": [],
   "source": []
  }
 ],
 "metadata": {
  "kernelspec": {
   "display_name": "Python 3",
   "language": "python",
   "name": "python3"
  },
  "language_info": {
   "codemirror_mode": {
    "name": "ipython",
    "version": 3
   },
   "file_extension": ".py",
   "mimetype": "text/x-python",
   "name": "python",
   "nbconvert_exporter": "python",
   "pygments_lexer": "ipython3",
   "version": "3.7.3"
  }
 },
 "nbformat": 4,
 "nbformat_minor": 2
}
